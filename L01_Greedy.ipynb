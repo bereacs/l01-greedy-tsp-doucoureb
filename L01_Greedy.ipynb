# %% [markdown]
# [L01: Implementing Greedy TSP](https://docs.google.com/document/d/1JA_CWBXPN6whvJAemnJLvtYJ3Pbk84dTUolWO_QqosA/edit?usp=sharing)
Written by Dr. Jan Pearce, Berea College

Complete the code by meeting all linked requirements and fixing all FIXMEs

## Your Name: Bineta Doucoure


Text cell <PvEpt0HPKq9X>
# %% [markdown]
Summary
************
This implementation of the Traveling Salesman Problem (TSP) using the greedy algorithm took approximately 4 hours to complete. The initial design plan evolved slightly during implementation, particularly in handling the route generation more efficiently. The final result is a functional TSP solver that can read input files, generate a greedy solution, visualize the result, and output the solution in the required format.
The implementation successfully handles both the tsp-small.txt and tsp-48.txt input files, as well as any similarly structured test files. The program uses NetworkX for graph representation and matplotlib for visualization, as required.

Personnel
********************************
This lab was completed individually, with no collaboration with other students.

Challenges
*************************************
The largest challenges encountered during this implementation were:
Efficiently implementing the greedy algorithm: Ensuring that the getRoute method correctly handled visited and unvisited nodes while maintaining performance was challenging.
Properly integrating NetworkX and matplotlib: Getting the graph visualization to display correctly with both nodes and edge weights required some trial and error.

Innovations
********************
The outputSolution method generates a string representation of the solution in the same format as the input, making it easy to verify or use the output.
The main function was expanded to test both provided input files automatically,

Testing
********************************
Testing was conducted in the following ways:

Unit testing: Each method of the TSP class was tested individually to ensure correct functionality.
Integration testing: The entire program was tested with both tsp-small.txt and tsp-48.txt to verify correct operation with different input sizes.
Visual inspection: The generated graphs were visually inspected to ensure they correctly represented the TSP solution.
Output validation: The generated output strings were checked to ensure they matched the required format and contained valid data.

Errors
*******************************
Known errors and deficiencies:
The greedy algorithm does not guarantee an optimal solution to the TSP, only an approximation.
The program assumes that the input file is correctly formatted and does not include robust error handling for malformed inputs.

Comments
*******************************************
This lab provided valuable experience in implementing a heuristic algorithm for an NP-hard problem. Working with NetworkX and matplotlib to visualize the results was particularly interesting and helped in understanding the solution's characteristics.

Text cell <lRXe-Atyv30H>
# %% [markdown]
## Import Libraries

Code cell <b6koAGG2mhix>
# %% [code]
import networkx as nx
import matplotlib.pyplot as plt
import math
from urllib.request import urlopen

Text cell <y-JqngNLmhVG>
# %% [markdown]
### Read data

Code cell <GzeEKA-nwLsJ>
# %% [code]
tspdata = urlopen("http://cs.berea.edu/courses/csc445/data/tsp-small.txt").read().decode('ASCII')
print(tspdata)
Execution output
0KB
	Stream
		6
		1 5 
		3 7 
		5 11 
		3 5 
		5 7 
		7 9

Text cell <qGcB5022KlHL>
# %% [markdown]
## TSP Class

Code cell <KIzVOICElISX>
# %% [code]
import networkx as nx
import matplotlib.pyplot as plt
import math

class TSP:
    def __init__(self):
        self.dimension = None
        self.nodeData = []
        self.graph = nx.DiGraph()
        self.coords = {}
        self.places = []
        self.route = []

    def extractData(self, inputFile=""):
        with open(inputFile, 'r') as file:
            self.dimension = int(file.readline().strip())
            for line in file:
                node, x, y = map(float, line.strip().split())
                self.nodeData.append((int(node), x, y))

    def setUpCoords(self):
        for node, x, y in self.nodeData:
            self.coords[node] = (x, y)

    def calculateDistance(self, a, b):
        return math.sqrt((a[0] - b[0])**2 + (a[1] - b[1])**2)

    def getRoute(self, current, visits=None, nVisits=None):
        if visits is None:
            visits = []
        if nVisits is None:
            nVisits = self.listPlaces()

        visits.append(current)
        nVisits = self.cleanUpList(visits, nVisits)

        if not nVisits:
            return visits

        nearest = min(nVisits, key=lambda x: self.calculateDistance(self.coords[current], self.coords[x]))
        return self.getRoute(nearest, visits, nVisits)

    def beGreedy(self, start):
        self.route = self.getRoute(start)
        self.route.append(start)  # Return to the starting point

    def listPlaces(self):
        return list(self.coords.keys())

    def cleanUpList(self, visited, notVisited):
        return [item for item in notVisited if item not in visited]

    def addNodes(self):
        for node, x, y in self.nodeData:
            self.graph.add_node(node, pos=(x, y))

    def addEdges(self):
        for i in range(len(self.route) - 1):
            self.graph.add_edge(self.route[i], self.route[i+1],
                                weight=round(self.calculateDistance(self.coords[self.route[i]], self.coords[self.route[i+1]]), 2))

    def showGraph(self):
        coords = nx.get_node_attributes(self.graph, 'pos')
        labels = nx.get_edge_attributes(self.graph, 'weight')
        nx.draw(self.graph, coords, with_labels=True, node_color='lightblue', node_size=500)
        nx.draw_networkx_edge_labels(self.graph, coords, edge_labels=labels)
        plt.title("TSP Greedy Solution")
        plt.axis('off')
        plt.show()

    def outputSolution(self):
        solution = f"{self.dimension}\n"
        for node in self.route:
            x, y = self.coords[node]
            solution += f"{node} {x} {y}\n"
        return solution

def main():
    tsp = TSP()

    # Test with tsp-small.txt
    print("Testing with tsp-small.txt:")
    tsp.extractData("http://cs.berea.edu/courses/csc445/data/tsp-small.txt")
    tsp.setUpCoords()
    tsp.addNodes()
    tsp.beGreedy(1)  # Start from node 1
    tsp.addEdges()
    tsp.showGraph()
    print(tsp.outputSolution())

    # Reset for next test
    tsp = TSP()

    # Test with tsp-48.txt
    print("\nTesting with tsp-48.txt:")
    tsp.extractData("tsp-48.txt")
    tsp.setUpCoords()
    tsp.addNodes()
    tsp.beGreedy(1)  # Start from node 1
    tsp.addEdges()
    tsp.showGraph()
    print(tsp.outputSolution())

if __name__ == "__main__":
    main()
